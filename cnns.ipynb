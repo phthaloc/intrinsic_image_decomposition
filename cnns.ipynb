{
 "cells": [
  {
   "cell_type": "markdown",
   "metadata": {
    "run_control": {
     "frozen": false,
     "read_only": false
    }
   },
   "source": [
    "# Import inference graph and extend it to a training graph:\n",
    "\n",
    "To extend the graph, we have to add:\n",
    "    - input data structure\n",
    "    - loss function\n",
    "    - optimization op\n",
    "    \n",
    "To build the graph it is necessary to know the node names of all relevant \n",
    "layers, placeholders etc. for restoring the model later.\n",
    "\n",
    "pay ATTENTION to:\n",
    "    the imported model must be in the same graph as the nodes which are \n",
    "    added later\n",
    "    -> load the model first to the default graph, then add further ops\n",
    "    \n",
    "also test to input input-images of different sizes (multiples of 32px). \n",
    "It might not work because input placeholder is defined fix.\n",
    "perhaps input node should not be saved inside the model?!\n",
    "\n",
    "output of model has name (deconv_s2out_shading/BiasAdd:0 and \n",
    "deconv_s2out_albedo/BiasAdd:0). \n",
    "simpler names?!\n",
    "\n",
    "\n",
    "To plot all graphs directly in this notebook, run jupyter form terminal like \n",
    "this:\n",
    "    jupyter notebook --NotebookApp.iopub_data_rate_limit=10000000000"
   ]
  },
  {
   "cell_type": "code",
   "execution_count": 1,
   "metadata": {
    "ExecuteTime": {
     "end_time": "2017-08-04T17:57:11.756491Z",
     "start_time": "2017-08-04T17:57:09.096222Z"
    },
    "run_control": {
     "frozen": false,
     "read_only": false
    },
    "scrolled": true
   },
   "outputs": [
    {
     "name": "stderr",
     "output_type": "stream",
     "text": [
      "[2017-08-04 19:57:11 DEBUG]: Python version: \n",
      "    3.6.0 (default, Dec 24 2016, 13:33:34) \n",
      "[GCC 4.2.1 Compatible Apple LLVM 8.0.0 (clang-800.0.42.1)]\n",
      "    Tensorflow version: 1.2.1\n",
      "[2017-08-04 19:57:11 INFO]: Path to infrence graph:\n",
      "    logs/inference_graphs/narihira2015/tfmodel_inference.meta\n",
      "[2017-08-04 19:57:11 INFO]: Path to restored (already done some training) model\n",
      "    (if available): None\n",
      "[2017-08-04 19:57:11 INFO]: Trained on images of shape: [416, 416, 3]\n",
      "[2017-08-04 19:57:11 INFO]: Initial learning rate: 1e-05\n"
     ]
    }
   ],
   "source": [
    "import os   \n",
    "import sys\n",
    "sys.path.append('./util')\n",
    "import time\n",
    "import datetime\n",
    "import numpy as np\n",
    "import pandas as pd\n",
    "import tensorflow as tf\n",
    "%matplotlib inline\n",
    "import matplotlib.pyplot as plt\n",
    "import input_queues as iq\n",
    "import cnn_model\n",
    "import plot_helpers as plt_help\n",
    "import general_helpers as ghelp\n",
    "import nn_helpers as nnhelp\n",
    "import cnn_helpers as cnnhelp\n",
    "\n",
    "# make only 'gpu:0' visible, so that only one gpu is used not both, see also\n",
    "# https://github.com/tensorflow/tensorflow/issues/5066\n",
    "# https://github.com/tensorflow/tensorflow/issues/3644#issuecomment-237631171\n",
    "os.environ[\"CUDA_DEVICE_ORDER\"]=\"PCI_BUS_ID\"   # see issue #152\n",
    "os.environ[\"CUDA_VISIBLE_DEVICES\"]=\"0\"\n",
    "\n",
    "LOGS_PATH = 'logs/1/'  # path to summary files\n",
    "# create logger (write to file and stdout):\n",
    "logger = ghelp.create_logger(filename=LOGS_PATH + 'training.log')\n",
    "\n",
    "logger.debug('Python version: \\n    ' + sys.version + \n",
    "             '\\n    Tensorflow version: ' + tf.__version__)\n",
    "\n",
    "# data path constants:\n",
    "# DATA_DIR = '../data/mnist/'\n",
    "DATA_DIR = 'data/'\n",
    "# DATA_DIR = '/usr/udo/data/'\n",
    "PREDICT_PATH = ''\n",
    "path_inference_graph = ['logs/inference_graphs/narihira2015/' +\n",
    "                        'tfmodel_inference.meta']\n",
    "# path_inference_graph = ['/Users/udodehm/Downloads/camp_depth_irolaina/' + '\n",
    "#                         'ResNet_pretrained/ResNet-L50.meta']\n",
    "# path_inference_graph = ['vgg16/vgg16.tfmodel']\n",
    "path_inference_graph = path_inference_graph[0]\n",
    "logger.info('Path to infrence graph:\\n    {}'.format(path_inference_graph))\n",
    "\n",
    "path_restore_model = None #'logs/2/tfmodel-5'\n",
    "logger.info('Path to restored (already done some training) model\\n' +\n",
    "            '    (if available): {}'.format(path_restore_model))\n",
    "\n",
    "# hyper-parameters:\n",
    "m_height = 13  # multiplicate of image height size -> network is designed so \n",
    "    # that it can take images with shape of multiples of m\n",
    "m_width = m_height  # multiplicate of image width size -> network \n",
    "    # is designed so that it can take images with shape of multiples of m\n",
    "IMAGE_SHAPE = [32 * m_height, 32 * m_width, 3]  # complete image size \n",
    "    # [436, 1024, 3] # Narihira2015 use [M*32=13*32=416, 416, 3]\n",
    "logger.info('Trained on images of shape: {}'.format(IMAGE_SHAPE))\n",
    "\n",
    "INITIAL_LEARNING_RATE = 1e-5\n",
    "logger.info('Initial learning rate: {}'.format(INITIAL_LEARNING_RATE))\n",
    "\n",
    "# probability that a neuron's output is kept during dropout (only during \n",
    "# training!!!, testing/validation -> 1.0):\n",
    "# DROPOUT_RATE = 0.5\n",
    "BATCH_SIZE = 8  # nr of data which is put through the network before updating \n",
    "    # it, as default use: 32. \n",
    "    # BATCH_SIZE determines how many data samples are loaded in the memory (be \n",
    "    # careful with memory space)\n",
    "    \n",
    "NUM_EPOCHS = 2  # nr of times the training process loops through the \n",
    "    # complete training data set (how often is the tr set 'seen')\n",
    "    # if you have 1000 training examples, and your batch size is 500, then it\n",
    "    # will take 2 iterations to complete 1 epoch.\n",
    "\n",
    "DISPLAY_STEP = 2  # every DIPLAY_STEP'th training iteration information is \n",
    "    # printed (default: 100)\n",
    "SUMMARY_STEP = 2  # every SUMMARY_STEP'th training iteration a summary file is \n",
    "    # written to LOGS_PATH\n",
    "DEVICE = '/cpu:0'  # device on which the variable is saved/processed"
   ]
  },
  {
   "cell_type": "code",
   "execution_count": 2,
   "metadata": {
    "ExecuteTime": {
     "end_time": "2017-08-04T17:20:35.178749Z",
     "start_time": "2017-08-04T17:20:35.169891Z"
    },
    "collapsed": true,
    "run_control": {
     "frozen": false,
     "read_only": false
    }
   },
   "outputs": [],
   "source": [
    "# graph = tf.Graph()\n",
    "  \n",
    "# # Set the new graph as the default.\n",
    "# with graph.as_default():\n",
    "  \n",
    "#     # Open the graph-def file for binary reading.\n",
    "#     path = path_inference_graph\n",
    "#     with tf.gfile.FastGFile(path, 'rb') as file:\n",
    "#         # The graph-def is a saved copy of a TensorFlow graph.\n",
    "#         # First we need to create an empty graph-def.\n",
    "#         graph_def = tf.GraphDef()\n",
    "\n",
    "#         # Then we load the proto-buf file into the graph-def.\n",
    "#         graph_def.ParseFromString(file.read())\n",
    "\n",
    "#         # Finally we import the graph-def to the default TensorFlow graph.\n",
    "#         tf.import_graph_def(graph_def, name='')"
   ]
  },
  {
   "cell_type": "code",
   "execution_count": 3,
   "metadata": {
    "ExecuteTime": {
     "end_time": "2017-08-04T17:20:38.678147Z",
     "start_time": "2017-08-04T17:20:35.182250Z"
    },
    "run_control": {
     "frozen": false,
     "read_only": false
    }
   },
   "outputs": [
    {
     "name": "stderr",
     "output_type": "stream",
     "text": [
      "[2017-08-04 19:20:38 DEBUG]: Restored inference graph.\n"
     ]
    }
   ],
   "source": [
    "# load meta graph (inference graph)\n",
    "# how to work with restored models:\n",
    "# https://www.tensorflow.org/programmers_guide/meta_graph\n",
    "# http://cv-tricks.com/tensorflow-tutorial/save-restore-tensorflow-models-quick-complete-tutorial/\n",
    "saver_restore = tf.train.import_meta_graph(path_inference_graph, \n",
    "                                           clear_devices=True)\n",
    "logger.debug('Restored inference graph.')"
   ]
  },
  {
   "cell_type": "code",
   "execution_count": 4,
   "metadata": {
    "ExecuteTime": {
     "end_time": "2017-08-04T17:20:38.685538Z",
     "start_time": "2017-08-04T17:20:38.681242Z"
    },
    "collapsed": true,
    "run_control": {
     "frozen": false,
     "read_only": false
    }
   },
   "outputs": [],
   "source": [
    "# save default graph in variable:\n",
    "graph = tf.get_default_graph()"
   ]
  },
  {
   "cell_type": "code",
   "execution_count": 5,
   "metadata": {
    "ExecuteTime": {
     "end_time": "2017-08-04T17:20:38.694594Z",
     "start_time": "2017-08-04T17:20:38.689834Z"
    },
    "collapsed": true,
    "run_control": {
     "frozen": false,
     "read_only": false
    },
    "scrolled": false
   },
   "outputs": [],
   "source": [
    "# # plot imported inference graph:\n",
    "# plt_help.show_graph(graph.as_graph_def())"
   ]
  },
  {
   "cell_type": "code",
   "execution_count": 6,
   "metadata": {
    "ExecuteTime": {
     "end_time": "2017-08-04T17:20:38.755208Z",
     "start_time": "2017-08-04T17:20:38.698497Z"
    },
    "collapsed": true,
    "run_control": {
     "frozen": false,
     "read_only": false
    }
   },
   "outputs": [],
   "source": [
    "# lets get the input\n",
    "x = graph.get_tensor_by_name(name='input:0')\n",
    "\n",
    "# setup target output classes (ground truth):\n",
    "y_albedo_label = tf.placeholder(dtype=tf.float32, \n",
    "                                shape=[None] + IMAGE_SHAPE, \n",
    "                                name='out_albedo')\n",
    "y_shading_label = tf.placeholder(dtype=tf.float32, \n",
    "                                 shape=[None] + IMAGE_SHAPE, \n",
    "                                 name='out_shading')\n",
    "\n",
    "# bool variable that indicates if we are in training mode (training=True) or \n",
    "# valid/test mode (training=False) this indicator is important if dropout or/and\n",
    "# batch normalization is used.\n",
    "training = graph.get_tensor_by_name(name='is_training:0')\n",
    "# get graph output nodes:\n",
    "y_albedo_pred = graph.get_tensor_by_name(name='deconv_s2out_albedo/BiasAdd:0')\n",
    "y_shading_pred = graph.get_tensor_by_name(name='deconv_s2out_shading/BiasAdd:0')\n",
    "# y_albedo_pred = tf.clip_by_value(t=y_albedo, clip_value_min=0, \n",
    "#                                  clip_value_max=1, name='0_1_clipping_albedo')\n",
    "# y_shading_pred = tf.clip_by_value(t=y_shading, clip_value_min=0,\n",
    "#                                   clip_value_max=1, \n",
    "#                                   name='0_1_clipping_shading')"
   ]
  },
  {
   "cell_type": "code",
   "execution_count": 7,
   "metadata": {
    "ExecuteTime": {
     "end_time": "2017-08-04T17:20:44.373786Z",
     "start_time": "2017-08-04T17:20:38.758563Z"
    },
    "run_control": {
     "frozen": false,
     "read_only": false
    }
   },
   "outputs": [
    {
     "name": "stderr",
     "output_type": "stream",
     "text": [
      "[2017-08-04 19:20:38 DEBUG]: Defined loss.\n",
      "[2017-08-04 19:20:44 DEBUG]: Defined optimization method.\n"
     ]
    }
   ],
   "source": [
    "loss = cnnhelp.loss_fct(label_albedo=y_albedo_label, \n",
    "                        label_shading=y_shading_label, \n",
    "                        prediction_albedo=y_albedo_pred, \n",
    "                        prediction_shading=y_shading_pred, \n",
    "                        lambda_=0.5)\n",
    "logger.debug('Defined loss.')\n",
    "\n",
    "# Use an AdamOptimizer to train the network:\n",
    "with tf.name_scope('optimization'):\n",
    "    opt_step = tf.train.AdamOptimizer(INITIAL_LEARNING_RATE).minimize(loss)\n",
    "logger.debug('Defined optimization method.')"
   ]
  },
  {
   "cell_type": "code",
   "execution_count": 8,
   "metadata": {
    "ExecuteTime": {
     "end_time": "2017-08-04T17:20:45.402538Z",
     "start_time": "2017-08-04T17:20:44.377659Z"
    },
    "collapsed": true,
    "run_control": {
     "frozen": false,
     "read_only": false
    }
   },
   "outputs": [],
   "source": [
    "# to get every summary defined above we merge them to get one target:\n",
    "merge_train_summaries = tf.summary.merge_all()\n",
    "\n",
    "# define a FileWriter op which writes summaries defined above to disk:\n",
    "summary_writer = tf.summary.FileWriter(LOGS_PATH)\n",
    "\n",
    "# Create a saver for writing training checkpoints.\n",
    "saver = tf.train.Saver(max_to_keep=NUM_EPOCHS)"
   ]
  },
  {
   "cell_type": "code",
   "execution_count": 9,
   "metadata": {
    "ExecuteTime": {
     "end_time": "2017-08-04T17:20:45.423540Z",
     "start_time": "2017-08-04T17:20:45.405864Z"
    },
    "run_control": {
     "frozen": false,
     "read_only": false
    }
   },
   "outputs": [
    {
     "name": "stderr",
     "output_type": "stream",
     "text": [
      "[2017-08-04 19:20:45 DEBUG]: Defined validation loss\n"
     ]
    }
   ],
   "source": [
    "# introduce some validation set specific summaries\n",
    "# These summaries need to be defined blow the function \n",
    "# merge_train_summaries = tf.summary.merge_all()\n",
    "# because the validation set summaries are added to the summary writer at \n",
    "# different times. If they had been summarized with the training summaries they \n",
    "# would have to be defined at times where merge_train_summaries are added to the\n",
    "# summary writer\n",
    "with tf.name_scope('loss/'):\n",
    "    valid_loss = tf.placeholder(dtype=tf.float32)\n",
    "    valid_loss_summary = tf.summary.scalar(name='validation_loss', \n",
    "                                           tensor=valid_loss)\n",
    "logger.debug('Defined validation loss')"
   ]
  },
  {
   "cell_type": "code",
   "execution_count": 10,
   "metadata": {
    "ExecuteTime": {
     "end_time": "2017-08-04T17:20:45.439818Z",
     "start_time": "2017-08-04T17:20:45.427245Z"
    },
    "run_control": {
     "frozen": false,
     "read_only": false
    },
    "scrolled": true
   },
   "outputs": [
    {
     "name": "stderr",
     "output_type": "stream",
     "text": [
      "[2017-08-04 19:20:45 DEBUG]: Finished building training graph.\n"
     ]
    }
   ],
   "source": [
    "# # plot complete graph:\n",
    "# plt_help.show_graph(graph.as_graph_def())\n",
    "logger.debug('Finished building training graph.')\n",
    "logger.info('Total parameters of network: {}'.format(nnhelp.network_params()))"
   ]
  },
  {
   "cell_type": "code",
   "execution_count": 12,
   "metadata": {
    "ExecuteTime": {
     "end_time": "2017-08-04T17:28:09.043093Z",
     "start_time": "2017-08-04T17:21:05.305496Z"
    },
    "run_control": {
     "frozen": false,
     "read_only": false
    },
    "scrolled": false
   },
   "outputs": [
    {
     "name": "stderr",
     "output_type": "stream",
     "text": [
      "[2017-08-04 19:21:06 DEBUG]: Imported training data from\n",
      "    data/sample_data_sintel_shading_train.csv\n",
      "[2017-08-04 19:21:06 DEBUG]: Imported validation data from\n",
      "    data/sample_data_sintel_shading_valid.csv\n",
      "[2017-08-04 19:21:06 DEBUG]: Imported testing data from\n",
      "    data/sample_data_sintel_shading_test.csv\n",
      "[2017-08-04 19:21:06 INFO]: Start training:\n",
      "[2017-08-04 19:21:15 INFO]: For training it takes 12\n",
      "    (= # data / batch_size * epochs) iterations to loop through 50 samples of\n",
      "    training data over 2 epochs summarized in batches of size 8.\n",
      "    So, there are # data / batch_size = 6 iterations per epoch.\n",
      "[2017-08-04 19:21:30 INFO]: iteration 2: training loss 0.30 (ET: 14 sec).\n",
      "[2017-08-04 19:22:04 INFO]: iteration 4: training loss 0.30 (ET: 34 sec).\n",
      "[2017-08-04 19:22:40 INFO]: iteration 6: training loss 0.33 (ET: 36 sec).\n",
      "[2017-08-04 19:23:31 INFO]: Validation scores after epoch 1 (step 6):\n",
      "    Model saved in file: logs/1/tfmodel-6.\n",
      "    # validation data: 20, mean loss: 0.30 (ET: 51 sec).\n",
      "[2017-08-04 19:24:17 INFO]: iteration 8: training loss 0.37 (ET: 45 sec).\n",
      "[2017-08-04 19:25:08 INFO]: iteration 10: training loss 0.25 (ET: 51 sec).\n",
      "[2017-08-04 19:26:03 INFO]: iteration 12: training loss 0.36 (ET: 55 sec).\n",
      "[2017-08-04 19:27:20 INFO]: Validation scores after epoch 2 (step 12):\n",
      "    Model saved in file: logs/1/tfmodel-12.\n",
      "    # validation data: 20, mean loss: 0.30 (ET: 01:16 min).\n",
      "[2017-08-04 19:28:08 INFO]: Training done... total training time: 06:53 min.\n",
      "\n",
      "[2017-08-04 19:28:09 INFO]: Finished training.\n"
     ]
    }
   ],
   "source": [
    "# import data:\n",
    "# import training data:\n",
    "file = 'sample_data_sintel_shading_train.csv'\n",
    "df_train = pd.read_csv(DATA_DIR + file, sep=',', header=None,\n",
    "                       names=['img', 'alb', 'shad'])\n",
    "# compolete image paths:\n",
    "df_train = DATA_DIR + df_train\n",
    "# instantiate a data queue for feeding data in (mini) batches to cnn:\n",
    "data_train = iq.DataQueue(df=df_train, batch_size=BATCH_SIZE,\n",
    "                          num_epochs=NUM_EPOCHS)\n",
    "logger.debug('Imported training data from\\n    {}'.format(DATA_DIR + file))\n",
    "\n",
    "# import validation data set: \n",
    "# why not using the whole validation set for validation at once? \n",
    "# - limited memory space.\n",
    "#  -> After each training epoch we will use the complete validation dataset\n",
    "#     to calculate the error/accuracy on the validation set\n",
    "file = 'sample_data_sintel_shading_valid.csv'\n",
    "df_valid = pd.read_csv(DATA_DIR + file, sep=',', header=None,\n",
    "                       names=['img', 'alb', 'shad'])\n",
    "# compolete image paths:\n",
    "df_valid = DATA_DIR + df_valid\n",
    "# instantiate a data queue for feeding data in (mini) batches to cnn:\n",
    "data_valid = iq.DataQueue(df=df_valid, batch_size=BATCH_SIZE,\n",
    "                          num_epochs=NUM_EPOCHS)\n",
    "logger.debug('Imported validation data from\\n    {}'.format(DATA_DIR + file))\n",
    "\n",
    "# testing data set: \n",
    "file = 'sample_data_sintel_shading_test.csv'\n",
    "df_test = pd.read_csv(DATA_DIR + file, sep=',', header=None,\n",
    "                      names=['img', 'alb', 'shad'])\n",
    "# compolete image paths:\n",
    "df_test = DATA_DIR + df_test\n",
    "# instantiate a data queue for feeding data in (mini) batches to cnn:\n",
    "data_test = iq.DataQueue(df=df_test, batch_size=BATCH_SIZE,\n",
    "                         num_epochs=1)\n",
    "logger.debug('Imported testing data from\\n    {}'.format(DATA_DIR + file))\n",
    "\n",
    "################################################################################\n",
    "logger.info('Start training:')\n",
    "# Initialization:\n",
    "# Op that initializes global variables in the graph:\n",
    "init_global = tf.global_variables_initializer()\n",
    "# Op that initializes local variables in the graph:\n",
    "init_local = tf.local_variables_initializer()\n",
    "\n",
    "# config = tf.ConfigProto(allow_soft_placement = True,\n",
    "#                         intra_op_parallelism_threads=3,\n",
    "#                         log_device_placement=False)\n",
    "config = tf.ConfigProto(device_count = {'GPU': 1},\n",
    "                        intra_op_parallelism_threads=3)\n",
    "with tf.Session(config=config) as sess: \n",
    "# with tf.Session() as sess:\n",
    "    ############################################################################\n",
    "    # initialize all variables:\n",
    "    sess.run([init_global, init_local])\n",
    "    \n",
    "    if path_restore_model:\n",
    "        # restore saved model parameters (weights, biases, etc):\n",
    "        saver_restore.restore(sess, path_restore_model)\n",
    "    \n",
    "    # Adds a Graph to the event file.\n",
    "    # create summary that give output (TensorFlow op that output protocol \n",
    "    # buffers containing 'summarized' data) of the built Tensorflow graph:\n",
    "    summary_writer.add_graph(sess.graph)\n",
    "    \n",
    "    # start timer for total training time:\n",
    "    start_total_time = time.time()\n",
    "    # set timer to measure the displayed training steps:\n",
    "    start_time = start_total_time\n",
    "    \n",
    "    ############################################################################\n",
    "    # Training:\n",
    "    # train loop\n",
    "    #     train for until all data is used\n",
    "    #     number of iterations depends on number of data, number of epochs and \n",
    "    #     batch size:\n",
    "    iter_start = data_train.iter_left\n",
    "    logger.info('For training it takes {}\\n'.format(iter_start) +\n",
    "                '    (= # data / batch_size * epochs) iterations to loop ' +\n",
    "                'through {} samples of\\n    '.format(data_train.df.shape[0]) +\n",
    "                'training data over {} '.format(data_train.num_epochs) +\n",
    "                'epochs summarized in batches of size ' + \n",
    "                '{}.\\n'.format(data_train.batch_size) +\n",
    "                '    So, there are # data / batch_size = ' +\n",
    "                '{} '.format(int(data_train.df.shape[0]/data_train.batch_size))+\n",
    "                'iterations per epoch.')\n",
    "    \n",
    "    while data_train.iter_left >= 0:\n",
    "        try:\n",
    "            # take a (mini) batch of the training data:\n",
    "            deq_train = data_train.dequeue()\n",
    "            img_batch, alb_batch, shad_batch = iq.next_batch(deq=deq_train, \n",
    "                                                             shape=IMAGE_SHAPE, \n",
    "                                                             is_flip=True, \n",
    "                                                             is_rotated=False,\n",
    "                                                             norm=True)\n",
    "            # run training/optimization step:\n",
    "            # Run one step of the model.  The return values are the activations\n",
    "            # from the `train_op` (which is discarded) and the `loss` Op.  To\n",
    "            # inspect the values of your Ops or variables, you may include them\n",
    "            # in the list passed to sess.run() and the value tensors will be\n",
    "            # returned in the tuple from the call.\n",
    "\n",
    "            feed_dict = {x: img_batch,\n",
    "                         y_albedo_label: alb_batch,\n",
    "                         y_shading_label: shad_batch,\n",
    "                         training: True}\n",
    "            sess.run(opt_step, feed_dict=feed_dict)\n",
    "\n",
    "            # report training set accuracy every DISPLAY_STEP-th step:\n",
    "            if (data_train.num_iter) % DISPLAY_STEP == 0:\n",
    "                # console output:\n",
    "                feed_dict = {x: img_batch,\n",
    "                             y_albedo_label: alb_batch,\n",
    "                             y_shading_label: shad_batch,\n",
    "                             training: False}\n",
    "                train_loss = sess.run(loss, \n",
    "                                      feed_dict=feed_dict)\n",
    "                duration_time = time.time() - start_time\n",
    "                duration_time = ghelp.get_time_format(time_in_sec=duration_time)\n",
    "                duration_time = ghelp.time_tuple_to_str(time_tuple=duration_time)\n",
    "                logger.info('iteration {}: '.format(data_train.num_iter) +\n",
    "                            'training loss ' + \n",
    "                            '{tr_loss:.2f} (ET: '.format(tr_loss=train_loss) +\n",
    "                            '{}).'.format(duration_time))\n",
    "                # reset timer to measure the displayed training steps:\n",
    "                start_time = time.time()\n",
    "\n",
    "        ########################################################################\n",
    "            # Validation:\n",
    "            # display validation set accuracy and loss after each completed \n",
    "            # epoch (1 epoch ^= data_train.df.shape[0] / data_train.batch_size \n",
    "            # training steps => steps per epoch)\n",
    "            val_epoch = int(data_train.df.shape[0] / data_train.batch_size)\n",
    "            if data_train.num_iter % val_epoch == 0:\n",
    "                # save checkpoint files to disk:\n",
    "                save_path = saver.save(sess, LOGS_PATH + 'tfmodel',\n",
    "                                       global_step=data_train.num_iter)\n",
    "\n",
    "                # After each training epoch we will use the complete validation \n",
    "                # data set to calculate the error/accuracy on the validation \n",
    "                # set:\n",
    "                # loop through one validation data set epoch:\n",
    "                validation_loss = 0\n",
    "                valid_steps_per_epoch = int(data_valid.df.shape[0] / \n",
    "                                            data_valid.batch_size)\n",
    "                for j in range(valid_steps_per_epoch):\n",
    "                    # DISCLAIMER: we do not run the opt_step here (on \n",
    "                    # the validation data set) because we do not want to train\n",
    "                    # our network on the validation set. Important for batch \n",
    "                    # normalization and dropout (training -> False).\n",
    "                    # get validation data set (mini) batch:\n",
    "                    lst = iq.next_batch(deq=data_valid.dequeue(), \n",
    "                                        shape=IMAGE_SHAPE, \n",
    "                                        is_flip=True,\n",
    "                                        is_rotated=False,\n",
    "                                        norm=True)\n",
    "                    img_batch_val, alb_batch_val, shad_batch_val = lst\n",
    "                    \n",
    "                    # calculate the mean loss of this validation batch and sum \n",
    "                    # it with the previous mean batch losses:\n",
    "                    feed_dict = {x: img_batch_val,\n",
    "                                 y_albedo_label: alb_batch_val,\n",
    "                                 y_shading_label: shad_batch_val,\n",
    "                                 training: False}\n",
    "                    validation_loss += sess.run(loss, \n",
    "                                                feed_dict=feed_dict)\n",
    "\n",
    "                # adding a mean loss summary op (for tensorboard). \n",
    "                # we need to divide the accumulated loss from above by the \n",
    "                # iteration steps (steps_per_epoch):\n",
    "                feed_dict = {valid_loss: validation_loss / valid_steps_per_epoch}\n",
    "                validation_loss_total = sess.run(valid_loss_summary, \n",
    "                                                 feed_dict=feed_dict)\n",
    "                summary_writer.add_summary(summary=validation_loss_total, \n",
    "                                           global_step=data_train.num_iter)\n",
    "                duration_time = time.time() - start_time\n",
    "                duration_time = ghelp.get_time_format(time_in_sec=duration_time)\n",
    "                duration_time = ghelp.time_tuple_to_str(time_tuple=duration_time)\n",
    "                logger.info('Validation scores after epoch ' + \n",
    "                            '{} '.format(data_train.completed_epochs + 1) + \n",
    "                            '(step {}):\\n'.format(data_train.num_iter) +\n",
    "                            '    Model saved in file: {}.\\n'.format(save_path) +\n",
    "                            '    # validation data: ' +\n",
    "                            '{}, mean loss: '.format(data_valid.df.shape[0]) +\n",
    "                            '{ml:.2f}'.format(ml=validation_loss / valid_steps_per_epoch) +\n",
    "                            ' (ET: {}).'.format(duration_time))\n",
    "                # reset timer to measure the displayed training steps:\n",
    "                start_time = time.time()\n",
    "\n",
    "            if data_train.num_iter % SUMMARY_STEP == 0:\n",
    "                feed_dict = {x: img_batch,  \n",
    "                             y_albedo_label: alb_batch,\n",
    "                             y_shading_label: shad_batch, \n",
    "                             training: False}\n",
    "                s = sess.run(merge_train_summaries, feed_dict=feed_dict)\n",
    "                # adds a Summary protocol buffer to the event file \n",
    "                #     (global_step: Number. Optional global step value to record\n",
    "                #     with the summary. Each stepp i is assigned to the \n",
    "                #     corresponding summary parameter.)\n",
    "                summary_writer.add_summary(summary=s, \n",
    "                                           global_step=data_train.num_iter)\n",
    "        # end while loop when there are no elements left to dequeue:\n",
    "        except IndexError:\n",
    "            end_total_time = time.time() - start_total_time\n",
    "            end_total_time = ghelp.get_time_format(end_total_time)\n",
    "            end_total_time = ghelp.time_tuple_to_str(time_tuple=end_total_time)\n",
    "            logger.info('Training done... total training time: ' + \n",
    "                        '{}.'.format(end_total_time))\n",
    "            break\n",
    "logger.info('Finished training.')"
   ]
  },
  {
   "cell_type": "code",
   "execution_count": 14,
   "metadata": {
    "ExecuteTime": {
     "end_time": "2017-08-04T17:05:50.194330Z",
     "start_time": "2017-08-04T17:05:50.172030Z"
    },
    "collapsed": true,
    "run_control": {
     "frozen": false,
     "read_only": false
    },
    "scrolled": true
   },
   "outputs": [],
   "source": [
    "# !tensorboard --logdir ./logs/1"
   ]
  }
 ],
 "metadata": {
  "hide_input": false,
  "kernelspec": {
   "display_name": "Python 3",
   "language": "python",
   "name": "python3"
  },
  "language_info": {
   "codemirror_mode": {
    "name": "ipython",
    "version": 3
   },
   "file_extension": ".py",
   "mimetype": "text/x-python",
   "name": "python",
   "nbconvert_exporter": "python",
   "pygments_lexer": "ipython3",
   "version": "3.6.0"
  },
  "notify_time": "5",
  "toc": {
   "colors": {
    "hover_highlight": "#DAA520",
    "running_highlight": "#FF0000",
    "selected_highlight": "#FFD700"
   },
   "moveMenuLeft": true,
   "nav_menu": {
    "height": "48px",
    "width": "252px"
   },
   "navigate_menu": true,
   "number_sections": true,
   "sideBar": true,
   "threshold": 4,
   "toc_cell": false,
   "toc_section_display": "block",
   "toc_window_display": false
  }
 },
 "nbformat": 4,
 "nbformat_minor": 2
}
